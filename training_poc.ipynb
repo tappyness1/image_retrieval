{
 "cells": [
  {
   "cell_type": "code",
   "execution_count": 22,
   "metadata": {},
   "outputs": [
    {
     "name": "stdout",
     "output_type": "stream",
     "text": [
      "The autoreload extension is already loaded. To reload it, use:\n",
      "  %reload_ext autoreload\n"
     ]
    }
   ],
   "source": [
    "from src.data_prep.dataloader import dataloader\n",
    "import cv2\n",
    "import matplotlib.pyplot as plt\n",
    "from src.train import train_siamese\n",
    "import json\n",
    "from src.get_embedding import generate_embedding\n",
    "import torch\n",
    "%load_ext autoreload\n",
    "%autoreload 2"
   ]
  },
  {
   "cell_type": "code",
   "execution_count": 2,
   "metadata": {},
   "outputs": [],
   "source": [
    "# data_dict = dataloader()\n",
    "f = open('data_dict.json')\n",
    "data_dict = json.load(f)"
   ]
  },
  {
   "cell_type": "code",
   "execution_count": 3,
   "metadata": {},
   "outputs": [],
   "source": [
    "# import json\n",
    "# with open(\"data_dict.json\", \"w\") as fp:\n",
    "#     json.dump(data_dict,fp) "
   ]
  },
  {
   "cell_type": "code",
   "execution_count": 4,
   "metadata": {},
   "outputs": [],
   "source": [
    "validation = data_dict[1]"
   ]
  },
  {
   "cell_type": "code",
   "execution_count": 5,
   "metadata": {},
   "outputs": [
    {
     "data": {
      "text/plain": [
       "'03757'"
      ]
     },
     "execution_count": 5,
     "metadata": {},
     "output_type": "execute_result"
    }
   ],
   "source": [
    "anchor = validation[list(validation.keys())[0]]['anchor']\n",
    "anchor"
   ]
  },
  {
   "cell_type": "code",
   "execution_count": 6,
   "metadata": {},
   "outputs": [],
   "source": [
    "img = cv2.imread(\"data/jpg/image_\" + anchor + \".jpg\")"
   ]
  },
  {
   "cell_type": "code",
   "execution_count": 7,
   "metadata": {},
   "outputs": [],
   "source": [
    "res = cv2.resize(img, dsize=(224, 224), interpolation=cv2.INTER_CUBIC)"
   ]
  },
  {
   "cell_type": "code",
   "execution_count": 8,
   "metadata": {},
   "outputs": [
    {
     "data": {
      "text/plain": [
       "(224, 224, 3)"
      ]
     },
     "execution_count": 8,
     "metadata": {},
     "output_type": "execute_result"
    }
   ],
   "source": [
    "res.shape"
   ]
  },
  {
   "cell_type": "code",
   "execution_count": 10,
   "metadata": {},
   "outputs": [
    {
     "name": "stdout",
     "output_type": "stream",
     "text": [
      "Epoch 1:\n"
     ]
    },
    {
     "name": "stderr",
     "output_type": "stream",
     "text": [
      "100%|██████████████████████████████████████████████████████████████████████████████████████████████████████████████████████████████████| 19/19 [00:02<00:00,  9.47it/s]\n"
     ]
    },
    {
     "name": "stdout",
     "output_type": "stream",
     "text": [
      "Epoch 2:\n"
     ]
    },
    {
     "name": "stderr",
     "output_type": "stream",
     "text": [
      "100%|██████████████████████████████████████████████████████████████████████████████████████████████████████████████████████████████████| 19/19 [00:01<00:00, 12.04it/s]\n"
     ]
    },
    {
     "name": "stdout",
     "output_type": "stream",
     "text": [
      "Epoch 3:\n"
     ]
    },
    {
     "name": "stderr",
     "output_type": "stream",
     "text": [
      "100%|██████████████████████████████████████████████████████████████████████████████████████████████████████████████████████████████████| 19/19 [00:01<00:00, 11.84it/s]\n"
     ]
    },
    {
     "name": "stdout",
     "output_type": "stream",
     "text": [
      "Epoch 4:\n"
     ]
    },
    {
     "name": "stderr",
     "output_type": "stream",
     "text": [
      "100%|██████████████████████████████████████████████████████████████████████████████████████████████████████████████████████████████████| 19/19 [00:01<00:00, 11.91it/s]\n"
     ]
    },
    {
     "name": "stdout",
     "output_type": "stream",
     "text": [
      "Epoch 5:\n"
     ]
    },
    {
     "name": "stderr",
     "output_type": "stream",
     "text": [
      "100%|██████████████████████████████████████████████████████████████████████████████████████████████████████████████████████████████████| 19/19 [00:01<00:00, 11.66it/s]\n"
     ]
    },
    {
     "name": "stdout",
     "output_type": "stream",
     "text": [
      "Epoch 6:\n"
     ]
    },
    {
     "name": "stderr",
     "output_type": "stream",
     "text": [
      "100%|██████████████████████████████████████████████████████████████████████████████████████████████████████████████████████████████████| 19/19 [00:01<00:00, 11.79it/s]\n"
     ]
    },
    {
     "name": "stdout",
     "output_type": "stream",
     "text": [
      "Epoch 7:\n"
     ]
    },
    {
     "name": "stderr",
     "output_type": "stream",
     "text": [
      "100%|██████████████████████████████████████████████████████████████████████████████████████████████████████████████████████████████████| 19/19 [00:01<00:00, 12.25it/s]\n"
     ]
    },
    {
     "name": "stdout",
     "output_type": "stream",
     "text": [
      "Epoch 8:\n"
     ]
    },
    {
     "name": "stderr",
     "output_type": "stream",
     "text": [
      "100%|██████████████████████████████████████████████████████████████████████████████████████████████████████████████████████████████████| 19/19 [00:01<00:00, 12.25it/s]\n"
     ]
    },
    {
     "name": "stdout",
     "output_type": "stream",
     "text": [
      "Epoch 9:\n"
     ]
    },
    {
     "name": "stderr",
     "output_type": "stream",
     "text": [
      "100%|██████████████████████████████████████████████████████████████████████████████████████████████████████████████████████████████████| 19/19 [00:01<00:00, 11.81it/s]\n"
     ]
    },
    {
     "name": "stdout",
     "output_type": "stream",
     "text": [
      "Epoch 10:\n"
     ]
    },
    {
     "name": "stderr",
     "output_type": "stream",
     "text": [
      "100%|██████████████████████████████████████████████████████████████████████████████████████████████████████████████████████████████████| 19/19 [00:01<00:00, 12.24it/s]"
     ]
    },
    {
     "name": "stdout",
     "output_type": "stream",
     "text": [
      "training done\n",
      "Time Taken: 16.30949115753174\n"
     ]
    },
    {
     "name": "stderr",
     "output_type": "stream",
     "text": [
      "\n"
     ]
    }
   ],
   "source": [
    "# trained_net = train_siamese(data_dict)"
   ]
  },
  {
   "cell_type": "code",
   "execution_count": 25,
   "metadata": {},
   "outputs": [
    {
     "data": {
      "text/plain": [
       "tensor([[-6.5087e+05, -2.4209e+05, -5.3816e+05, -1.2964e+06, -1.4272e+06,\n",
       "         -5.4386e+04,  9.8971e+05,  2.9865e+05, -1.8231e+03,  7.9569e+05,\n",
       "          1.1807e+06,  1.4541e+06,  1.7518e+06, -3.6102e+05, -1.1629e+06,\n",
       "          1.9860e+05,  5.1675e+05, -1.2585e+06,  3.5552e+05,  8.8631e+04,\n",
       "         -7.4300e+03, -5.4836e+05,  2.5254e+05,  4.9990e+05, -9.2951e+05,\n",
       "         -2.2687e+05,  8.9325e+05, -6.0859e+05, -6.5262e+05,  5.8936e+05,\n",
       "         -1.1722e+06, -6.6654e+05, -1.5207e+06,  2.1418e+05, -8.4432e+05,\n",
       "          4.4472e+05, -1.6290e+06,  8.8275e+05, -2.1127e+06, -1.2542e+06,\n",
       "          1.7720e+06,  3.9628e+05,  1.1983e+06,  1.3993e+06,  1.9990e+06,\n",
       "          5.5868e+05,  9.3423e+04, -1.4458e+06,  1.0355e+06, -1.8672e+05,\n",
       "         -1.7173e+06, -4.8524e+05, -3.6227e+05, -4.9166e+05,  4.9366e+04,\n",
       "          8.9588e+04, -7.3251e+04, -2.2235e+05, -1.4339e+06, -2.0021e+06,\n",
       "         -6.7684e+05,  1.4978e+05,  5.6536e+05,  2.6403e+05,  2.7467e+04,\n",
       "         -1.8919e+06,  5.9917e+05,  3.9704e+05,  4.0752e+05, -4.2156e+05,\n",
       "         -9.6408e+05,  5.4694e+05, -4.9904e+05,  1.3007e+06, -8.0290e+05,\n",
       "          9.0836e+04,  7.8773e+05, -1.3707e+04,  1.7872e+06, -8.5871e+05,\n",
       "          8.2183e+05,  1.1868e+06,  6.7901e+04,  1.9203e+05, -1.5897e+06,\n",
       "          4.7799e+05,  1.3726e+06,  2.0504e+06, -8.2704e+05, -4.2663e+05,\n",
       "          1.1593e+06, -7.9525e+04,  1.4680e+06,  1.0204e+05, -3.5490e+05,\n",
       "         -7.4020e+05,  2.6435e+05,  8.2540e+05, -1.8504e+06, -9.9650e+05,\n",
       "          1.1320e+06, -1.7335e+06, -2.0040e+06,  6.4340e+05,  9.0858e+05,\n",
       "         -1.9392e+06, -1.7389e+06,  1.2709e+06, -4.7583e+05, -7.6975e+05,\n",
       "          3.2769e+05, -2.9964e+05, -4.7526e+05,  9.3560e+05, -1.0222e+05,\n",
       "         -7.1392e+05,  1.0581e+06,  1.7150e+06, -3.1224e+05, -7.5550e+05,\n",
       "          1.8240e+06, -6.4260e+05, -2.9306e+05,  7.8935e+05,  1.7111e+05,\n",
       "          1.1116e+06,  3.9392e+05, -4.4380e+05]], grad_fn=<AddmmBackward0>)"
      ]
     },
     "execution_count": 25,
     "metadata": {},
     "output_type": "execute_result"
    }
   ],
   "source": [
    "generate_embedding(trained_net)"
   ]
  },
  {
   "cell_type": "code",
   "execution_count": 23,
   "metadata": {},
   "outputs": [],
   "source": [
    "torch.save(trained_net, \"trained_model/trained_network.pt\")"
   ]
  }
 ],
 "metadata": {
  "kernelspec": {
   "display_name": "Python 3 (ipykernel)",
   "language": "python",
   "name": "python3"
  },
  "language_info": {
   "codemirror_mode": {
    "name": "ipython",
    "version": 3
   },
   "file_extension": ".py",
   "mimetype": "text/x-python",
   "name": "python",
   "nbconvert_exporter": "python",
   "pygments_lexer": "ipython3",
   "version": "3.9.12"
  },
  "vscode": {
   "interpreter": {
    "hash": "14a92dd1a0d9cffe35239ebeaffac8e9d7788ba8ec098d7462c216ff37351f19"
   }
  }
 },
 "nbformat": 4,
 "nbformat_minor": 2
}
