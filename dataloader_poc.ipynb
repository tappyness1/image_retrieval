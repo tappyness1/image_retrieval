{
 "cells": [
  {
   "cell_type": "code",
   "execution_count": 1,
   "metadata": {},
   "outputs": [],
   "source": [
    "# from src.main import image_retrieval\n",
    "\n",
    "import scipy.io\n",
    "import pandas as pd\n",
    "import random\n",
    "from sklearn.model_selection import train_test_split\n",
    "labels = scipy.io.loadmat('data/jpg/imagelabels.mat')"
   ]
  },
  {
   "cell_type": "code",
   "execution_count": 2,
   "metadata": {
    "scrolled": true
   },
   "outputs": [
    {
     "data": {
      "text/plain": [
       "{'__header__': b'MATLAB 5.0 MAT-file, Platform: GLNX86, Created on: Thu Feb 19 15:43:33 2009',\n",
       " '__version__': '1.0',\n",
       " '__globals__': [],\n",
       " 'labels': array([[77, 77, 77, ..., 62, 62, 62]], dtype=uint8)}"
      ]
     },
     "execution_count": 2,
     "metadata": {},
     "output_type": "execute_result"
    }
   ],
   "source": [
    "img_labels = labels['labels'].ravel()\n",
    "labels"
   ]
  },
  {
   "cell_type": "code",
   "execution_count": 3,
   "metadata": {},
   "outputs": [],
   "source": [
    "img_label_dict = {f'{(i+1):05d}': img_labels[i] for i in range(len(img_labels))}\n",
    "# print(img_label_dict)"
   ]
  },
  {
   "cell_type": "code",
   "execution_count": 4,
   "metadata": {},
   "outputs": [],
   "source": [
    "img_label_df = pd.DataFrame.from_dict(img_label_dict, orient='index', columns = ['label'])\n",
    "img_label_df = img_label_df.reset_index(names='anchor')"
   ]
  },
  {
   "cell_type": "code",
   "execution_count": null,
   "metadata": {},
   "outputs": [],
   "source": [
    "img_label_df.head()"
   ]
  },
  {
   "cell_type": "code",
   "execution_count": null,
   "metadata": {},
   "outputs": [],
   "source": [
    "# convert to anchor, positive and negative \n",
    "\n",
    "img_label_df[img_label_df['label'] == 3].shape"
   ]
  },
  {
   "cell_type": "code",
   "execution_count": null,
   "metadata": {},
   "outputs": [],
   "source": [
    "def get_positive(row):\n",
    "    pos_candidates = img_label_df[img_label_df['label'] == row['label']]\n",
    "    # remove duplicate\n",
    "    pos_candidates = pos_candidates[pos_candidates['anchor'] != row['anchor']]\n",
    "    return pos_candidates.iloc[random.randint(0, pos_candidates.shape[0]-1)]['anchor']\n",
    "\n",
    "def get_negative(row):\n",
    "    neg_candidates = img_label_df[img_label_df['label'] != row['label']]\n",
    "    neg_candidates = neg_candidates[neg_candidates['anchor'] != row['anchor']]\n",
    "    return neg_candidates.iloc[random.randint(0, neg_candidates.shape[0]-1)]['anchor']\n",
    "\n",
    "img_label_df['positive'] = img_label_df.apply(get_positive, axis = 1)\n",
    "img_label_df['negative'] = img_label_df.apply(get_negative, axis = 1)\n",
    "output_df = img_label_df[['anchor', 'positive', 'negative']]"
   ]
  },
  {
   "cell_type": "code",
   "execution_count": null,
   "metadata": {
    "scrolled": true
   },
   "outputs": [],
   "source": [
    "output_df.head()"
   ]
  },
  {
   "cell_type": "code",
   "execution_count": null,
   "metadata": {},
   "outputs": [],
   "source": [
    "output_df.to_dict('index')"
   ]
  }
 ],
 "metadata": {
  "kernelspec": {
   "display_name": "Python 3",
   "language": "python",
   "name": "python3"
  },
  "language_info": {
   "codemirror_mode": {
    "name": "ipython",
    "version": 3
   },
   "file_extension": ".py",
   "mimetype": "text/x-python",
   "name": "python",
   "nbconvert_exporter": "python",
   "pygments_lexer": "ipython3",
   "version": "3.9.12"
  },
  "vscode": {
   "interpreter": {
    "hash": "14a92dd1a0d9cffe35239ebeaffac8e9d7788ba8ec098d7462c216ff37351f19"
   }
  }
 },
 "nbformat": 4,
 "nbformat_minor": 2
}
