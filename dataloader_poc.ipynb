{
 "cells": [
  {
   "cell_type": "code",
   "execution_count": 1,
   "metadata": {},
   "outputs": [
    {
     "ename": "ModuleNotFoundError",
     "evalue": "No module named 'sklearn'",
     "output_type": "error",
     "traceback": [
      "\u001b[1;31m---------------------------------------------------------------------------\u001b[0m",
      "\u001b[1;31mModuleNotFoundError\u001b[0m                       Traceback (most recent call last)",
      "Cell \u001b[1;32mIn [1], line 6\u001b[0m\n\u001b[0;32m      4\u001b[0m \u001b[38;5;28;01mimport\u001b[39;00m \u001b[38;5;21;01mpandas\u001b[39;00m \u001b[38;5;28;01mas\u001b[39;00m \u001b[38;5;21;01mpd\u001b[39;00m\n\u001b[0;32m      5\u001b[0m \u001b[38;5;28;01mimport\u001b[39;00m \u001b[38;5;21;01mrandom\u001b[39;00m\n\u001b[1;32m----> 6\u001b[0m \u001b[38;5;28;01mfrom\u001b[39;00m \u001b[38;5;21;01msklearn\u001b[39;00m\u001b[38;5;21;01m.\u001b[39;00m\u001b[38;5;21;01mmodel_selection\u001b[39;00m \u001b[38;5;28;01mimport\u001b[39;00m train_test_split\n\u001b[0;32m      7\u001b[0m labels \u001b[38;5;241m=\u001b[39m scipy\u001b[38;5;241m.\u001b[39mio\u001b[38;5;241m.\u001b[39mloadmat(\u001b[38;5;124m'\u001b[39m\u001b[38;5;124mdata/jpg/imagelabels.mat\u001b[39m\u001b[38;5;124m'\u001b[39m)\n",
      "\u001b[1;31mModuleNotFoundError\u001b[0m: No module named 'sklearn'"
     ]
    }
   ],
   "source": [
    "# from src.main import image_retrieval\n",
    "\n",
    "import scipy.io\n",
    "import pandas as pd\n",
    "import random\n",
    "from sklearn.model_selection import train_test_split\n",
    "labels = scipy.io.loadmat('data/jpg/imagelabels.mat')"
   ]
  },
  {
   "cell_type": "code",
   "execution_count": null,
   "metadata": {
    "scrolled": true
   },
   "outputs": [],
   "source": [
    "img_labels = labels['labels'].ravel()"
   ]
  },
  {
   "cell_type": "code",
   "execution_count": null,
   "metadata": {},
   "outputs": [],
   "source": [
    "img_label_dict = {f'{(i+1):05d}': img_labels[i] for i in range(len(img_labels))}\n",
    "# print(img_label_dict)"
   ]
  },
  {
   "cell_type": "code",
   "execution_count": null,
   "metadata": {},
   "outputs": [],
   "source": [
    "img_label_df = pd.DataFrame.from_dict(img_label_dict, orient='index', columns = ['label'])\n",
    "img_label_df = img_label_df.reset_index(names='anchor')"
   ]
  },
  {
   "cell_type": "code",
   "execution_count": null,
   "metadata": {},
   "outputs": [],
   "source": [
    "img_label_df.head()"
   ]
  },
  {
   "cell_type": "code",
   "execution_count": null,
   "metadata": {},
   "outputs": [],
   "source": [
    "# convert to anchor, positive and negative \n",
    "\n",
    "img_label_df[img_label_df['label'] == 3].shape"
   ]
  },
  {
   "cell_type": "code",
   "execution_count": null,
   "metadata": {},
   "outputs": [],
   "source": [
    "def get_positive(row):\n",
    "    pos_candidates = img_label_df[img_label_df['label'] == row['label']]\n",
    "    # remove duplicate\n",
    "    pos_candidates = pos_candidates[pos_candidates['anchor'] != row['anchor']]\n",
    "    return pos_candidates.iloc[random.randint(0, pos_candidates.shape[0]-1)]['anchor']\n",
    "\n",
    "def get_negative(row):\n",
    "    neg_candidates = img_label_df[img_label_df['label'] != row['label']]\n",
    "    neg_candidates = neg_candidates[neg_candidates['anchor'] != row['anchor']]\n",
    "    return neg_candidates.iloc[random.randint(0, neg_candidates.shape[0]-1)]['anchor']\n",
    "\n",
    "img_label_df['positive'] = img_label_df.apply(get_positive, axis = 1)\n",
    "img_label_df['negative'] = img_label_df.apply(get_negative, axis = 1)\n",
    "output_df = img_label_df[['anchor', 'positive', 'negative']]"
   ]
  },
  {
   "cell_type": "code",
   "execution_count": null,
   "metadata": {
    "scrolled": true
   },
   "outputs": [],
   "source": [
    "output_df.head()"
   ]
  },
  {
   "cell_type": "code",
   "execution_count": null,
   "metadata": {},
   "outputs": [],
   "source": [
    "output_df.to_dict('index')"
   ]
  }
 ],
 "metadata": {
  "kernelspec": {
   "display_name": "Python 3 (ipykernel)",
   "language": "python",
   "name": "python3"
  },
  "language_info": {
   "codemirror_mode": {
    "name": "ipython",
    "version": 3
   },
   "file_extension": ".py",
   "mimetype": "text/x-python",
   "name": "python",
   "nbconvert_exporter": "python",
   "pygments_lexer": "ipython3",
   "version": "3.9.12"
  },
  "vscode": {
   "interpreter": {
    "hash": "14a92dd1a0d9cffe35239ebeaffac8e9d7788ba8ec098d7462c216ff37351f19"
   }
  }
 },
 "nbformat": 4,
 "nbformat_minor": 2
}
